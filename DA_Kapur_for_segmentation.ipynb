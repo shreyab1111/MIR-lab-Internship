{
  "nbformat": 4,
  "nbformat_minor": 0,
  "metadata": {
    "colab": {
      "name": "DA_Kapur for segmentation.ipynb",
      "provenance": []
    },
    "kernelspec": {
      "name": "python3",
      "display_name": "Python 3"
    },
    "language_info": {
      "name": "python"
    }
  },
  "cells": [
    {
      "cell_type": "code",
      "execution_count": 2,
      "metadata": {
        "colab": {
          "base_uri": "https://localhost:8080/"
        },
        "id": "IBSqJh6N3H8Y",
        "outputId": "4a69d80d-f85c-41bb-c5e0-be2619c5df74"
      },
      "outputs": [
        {
          "output_type": "stream",
          "name": "stdout",
          "text": [
            "Looking in indexes: https://pypi.org/simple, https://us-python.pkg.dev/colab-wheels/public/simple/\n",
            "Collecting sewar\n",
            "  Downloading sewar-0.4.5.tar.gz (11 kB)\n",
            "Requirement already satisfied: numpy in /usr/local/lib/python3.7/dist-packages (from sewar) (1.21.6)\n",
            "Requirement already satisfied: scipy in /usr/local/lib/python3.7/dist-packages (from sewar) (1.4.1)\n",
            "Requirement already satisfied: Pillow in /usr/local/lib/python3.7/dist-packages (from sewar) (7.1.2)\n",
            "Building wheels for collected packages: sewar\n",
            "  Building wheel for sewar (setup.py) ... \u001b[?25l\u001b[?25hdone\n",
            "  Created wheel for sewar: filename=sewar-0.4.5-py3-none-any.whl size=10608 sha256=b81f7755a8ff8a5663a67624bfe4b23e6cc5ae2e73f935aa26dbb5c25f487022\n",
            "  Stored in directory: /root/.cache/pip/wheels/7a/38/6b/d066cfcb2b1c1c9b059b9ce1bdc4803b469359214e8dad4e3e\n",
            "Successfully built sewar\n",
            "Installing collected packages: sewar\n",
            "Successfully installed sewar-0.4.5\n"
          ]
        },
        {
          "output_type": "stream",
          "name": "stderr",
          "text": [
            "/usr/local/lib/python3.7/dist-packages/statsmodels/tools/_testing.py:19: FutureWarning: pandas.util.testing is deprecated. Use the functions in the public API at pandas.testing instead.\n",
            "  import pandas.util.testing as tm\n"
          ]
        }
      ],
      "source": [
        "!pip install sewar\n",
        "import cv2\n",
        "import numpy as np\n",
        "import random\n",
        "from PIL import Image\n",
        "import matplotlib.pyplot as plt\n",
        "from statsmodels.stats.outliers_influence import variance_inflation_factor\n",
        "from math import log10, sqrt \n",
        "import skimage \n",
        "from skimage import filters\n",
        "import math \n",
        "from skimage.metrics import structural_similarity as ssim\n",
        "from sewar.full_ref import vifp\n",
        "from skimage import io\n",
        "from google.colab.patches import cv2_imshow\n",
        "\n",
        "from itertools import combinations"
      ]
    },
    {
      "cell_type": "code",
      "source": [
        "def kapur_entropy(h,thresholds,nthrs):\n",
        "  #COUNTING PIXELS\n",
        "  cnt = 0\n",
        "  for i in range(0, len(h)):\n",
        "    if h[i]>0:\n",
        "           cnt += h[i]\n",
        "           \n",
        "  #FINDING PROBABILITY OF AN INDIVIDUAL PIXEL\n",
        "  prob=[]\n",
        "  for i in range (len(h)):\n",
        "    h[i]=h[i]/cnt\n",
        "    prob.append(h[i])\n",
        "\n",
        "  '''KAPUR'S ENTROPY CALCULATION. REFER - https://docs.google.com/document/d/1Rx0Gk9gb65ZSZAmPaSj2c75te8yuxjCPl1PXps1yLdk/edit '''\n",
        "  ###sum of intensity values for each segment created by threshold MARKED IN PURPLE\n",
        "  SUM=[]\n",
        "  SUM.append(sum(h[0:thresholds[0]]))\n",
        "  \n",
        "  for i in range(len(thresholds)-1):\n",
        "    SUM.append(sum(h[thresholds[i]:thresholds[i+1]]))\n",
        "\n",
        "  SUM.append(sum(h[thresholds[nthrs-1]:256]))  \n",
        "\n",
        "  #### CALCULATING WO AS MARKED IN BLUE FOR EACH SEGMENT CREATED BY THE THRESHOLDS\n",
        "  w0=prob[:]\n",
        "  for k in range(len(thresholds)):\n",
        "    if(k==0):\n",
        "      for i in range(0,thresholds[k]):\n",
        "        w0[i]=w0[i]/SUM[k]\n",
        "    if(k==len(thresholds)):\n",
        "      for i in range(thresholds[k-1],256):\n",
        "        w0[i]=w0[i]/SUM[k]\n",
        "    else:\n",
        "      for i in range(thresholds[k-1],thresholds[k]):\n",
        "        w0[i]=w0[i]/SUM[k]\n",
        "\n",
        "  ### CALCULATING W1 AS MARKED IN RED FOR EACH SEGMENT CREATED BY THE THRESHOLDS\n",
        "  w1=prob[:]\n",
        "  for k in range(len(thresholds)):\n",
        "    if(k==0):\n",
        "      for i in range(0,thresholds[k]):\n",
        "        if w1[i]==0:\n",
        "          w1[i]=w1[i]\n",
        "        else:\n",
        "          w1[i]=math.log(w1[i]/SUM[k])\n",
        "    if(k==len(thresholds)):\n",
        "      for i in range(thresholds[k-1],256):\n",
        "        if w1[i]==0:\n",
        "          w1[i]=w1[i]\n",
        "        else:\n",
        "          w1[i]=math.log(w1[i]/SUM[k])\n",
        "    else:\n",
        "      for i in range(thresholds[k-1],thresholds[k]):\n",
        "        if w1[i]==0:\n",
        "          w1[i]=w1[i]\n",
        "        else:\n",
        "          w1[i]=math.log(abs(w1[i]/SUM[k]))\n",
        "\n",
        "  ###MULTIPLYING W0 AND W1 AS IN THE FORMULAE\n",
        "  mul=[]\n",
        "  for i in range(len(w0)):\n",
        "    mul.append(w0[i]*w1[i])\n",
        "\n",
        "  ### GETTING THE SUM OF THE ABOVE MULTIPLIED QUANTITY FOR EACH SEGMENT\n",
        "  kapur_entropy=[]\n",
        "  for i in range(len(thresholds)-1):\n",
        "    kapur_entropy.append(-(sum(mul[thresholds[i]:thresholds[i+1]])))\n",
        "\n",
        "  #OBJECTIVE FUNCTION \n",
        "  J=sum(kapur_entropy)\n",
        "  #print(J)\n",
        "\n",
        "  return (J)\n"
      ],
      "metadata": {
        "id": "YTpTOfy2Zjav"
      },
      "execution_count": 2,
      "outputs": []
    },
    {
      "cell_type": "code",
      "source": [
        "def fitness(thresholds, greyscale_img,nthrs):\n",
        "    hist, _ = np.histogram(greyscale_img,bins=range(256), density=True)\n",
        "    value=kapur_entropy(hist, thresholds,nthrs)\n",
        "    #print(value)\n",
        "    return value\n",
        "\n",
        "def distance(a,b,dim):\n",
        "    o = np.zeros(dim)\n",
        "    for i in range(0,len(a)):\n",
        "        o[i] = abs(a[i] - b[i])\n",
        "    return o\n",
        "\n",
        "def Levy(d):\n",
        "    beta=3/2\n",
        "    sigma=(math.gamma(1+beta)*math.sin(math.pi*beta/2)/(math.gamma((1+beta)/2)*beta*2**((beta-1)/2)))**(1/beta)\n",
        "    u=np.random.randn(d)*sigma\n",
        "    v=np.random.randn(d)\n",
        "    step=u/abs(v)**(1/beta)\n",
        "    o=0.01*step\n",
        "    return o        \n",
        "\n",
        "def PSNR(original, compressed): \n",
        "    mse = np.mean((original - compressed) ** 2) \n",
        "    if(mse == 0):  # MSE is zero means no noise is present in the signal. # Therefore PSNR have no importance. \n",
        "        return 100\n",
        "    max_pixel = 255.0\n",
        "    psnr = 20 * log10(max_pixel / sqrt(mse)) \n",
        "    return psnr\n",
        "\n",
        "psnr=np.zeros(1)\n",
        "vif=np.zeros(1) #Visual information fidelity\n",
        "ssim_val=np.zeros(1) #Structural Similarity Index\n",
        "img_list=[1]"
      ],
      "metadata": {
        "id": "26nfmu6QZyDA"
      },
      "execution_count": 3,
      "outputs": []
    },
    {
      "cell_type": "code",
      "source": [
        "sr='/content/drive/MyDrive/Dataset/lena_colour01.png'  # original image from kodak dataset\n",
        "greyscale_img = cv2.imread(sr,0)"
      ],
      "metadata": {
        "id": "8lZhfTO5OSDZ"
      },
      "execution_count": 7,
      "outputs": []
    },
    {
      "cell_type": "code",
      "source": [
        "import time\n",
        "start = time.time()\n",
        "for img_no in img_list:\n",
        "    print(\"Image No. \" + str(img_no))\n",
        "    sr='/content/drive/MyDrive/Dataset/lena_colour' + str(img_no).zfill(2) + '.png'  # original image from kodak dataset\n",
        "    source = cv2.imread(sr)\n",
        "    #cv2_imshow(source) #original image\n",
        "\n",
        "    greyscale_img = cv2.imread(sr,0)\n",
        "    #cv2_imshow(greyscale_img) #grayscale image\n",
        "\n",
        "    gr = cv2.imread(sr,1)\n",
        "    \n",
        "    nthrs = 5\n",
        "    dim=nthrs\n",
        "    \n",
        "    ### Parameters\n",
        "\n",
        "    ub=255\n",
        "    lb=0\n",
        "    \n",
        "    r=(ub-lb)/10\n",
        "    Delta_max=(ub-lb)/8.5\n",
        "    \n",
        "    Food_fitness=0\n",
        "    Food_pos=np.zeros(dim) #food position\n",
        "    \n",
        "    Enemy_fitness=math.inf\n",
        "    Enemy_pos=np.zeros(dim) #enemy position\n",
        "    \n",
        "    population_size=20\n",
        "    \n",
        "    fitness_of_X = np.zeros(population_size)\n",
        "    All_fitness = np.zeros(population_size)\n",
        "\n",
        "    ### Parameter end \n",
        "    \n",
        "    X = np.zeros(shape=(population_size,dim))\n",
        "    DeltaX = np.zeros(shape=(population_size,dim))\n",
        "    \n",
        "    for i in range(0,population_size):\n",
        "        for j in range(0,dim):\n",
        "            X[i][j]=int(lb + random.uniform(0,1)*(ub-lb))\n",
        "        \n",
        "        X[i] = np.sort(X[i])\n",
        "    \n",
        "    i1=random.randint(0,population_size-1)\n",
        "    i2=random.randint(0,population_size-1)\n",
        "    \n",
        "    ub_del=25\n",
        "    \n",
        "    for i in range(0,population_size):\n",
        "        for j in range(0,dim):\n",
        "            DeltaX[i][j]=int(lb + random.uniform(0,1)*(ub_del-lb))\n",
        "        \n",
        "    Max_iteration=50\n",
        "\n",
        "    X = X.astype(int)\n",
        "\n",
        "    for itr in range(1,Max_iteration+1):\n",
        "        \n",
        "        r=(ub_del-lb)/4+((ub_del-lb)*(itr/Max_iteration)*2)\n",
        "        w=0.9-itr*((0.9-0.4)/Max_iteration)\n",
        "        my_c=0.1-itr*((0.1-0)/(Max_iteration/2))\n",
        "        \n",
        "        if my_c<0:\n",
        "            my_c=0\n",
        "        \n",
        "        s=2*random.random()*my_c #separation\n",
        "        a=2*random.random()*my_c #alignment\n",
        "        c=2*random.random()*my_c #cohesion\n",
        "        f=2*random.random()*my_c \n",
        "        e=my_c \n",
        "        #j=0 \n",
        "        for i in range(0,population_size):\n",
        "            fitness_of_X[i] = fitness(X[i],greyscale_img, nthrs)\n",
        "            All_fitness[i] = fitness_of_X[i]\n",
        "            \n",
        "            if fitness_of_X[i] > Food_fitness:\n",
        "                Food_fitness = fitness_of_X[i]\n",
        "                #print(Food_fitness)\n",
        "                Food_pos=X[i]\n",
        "            \n",
        "            if fitness_of_X[i] < Enemy_fitness:\n",
        "                if all((X[i] <= ub)) and all((X[i] >= lb)):\n",
        "                    #Enemy_fitness = fitness_of_X[i]\n",
        "                    Enemy_fitness = Food_fitness\n",
        "                    Enemy_pos = X[i]\n",
        "\n",
        "            j=j+1\n",
        "                    \n",
        "        for i in range(0,population_size):\n",
        "            index=0\n",
        "            neighbours_no=0\n",
        "            \n",
        "            ### Neighbours position updation\n",
        "            Neighbours_X = np.zeros(shape=(population_size,dim))\n",
        "            Neighbours_DeltaX = np.zeros(shape=(population_size,dim))\n",
        "            \n",
        "            for j in range(0,population_size):\n",
        "                Dist2Enemy = distance(X[i],X[j],dim)\n",
        "                if (all(Dist2Enemy<=r) and all(Dist2Enemy!=0)):\n",
        "                    index=index+1\n",
        "                    neighbours_no=neighbours_no+1\n",
        "                    Neighbours_DeltaX[index]=DeltaX[j]\n",
        "                    Neighbours_X[index]=X[j]\n",
        "                    \n",
        "            #updation of separation cohesion and alignment\n",
        "            S=np.zeros(dim)           \n",
        "            if neighbours_no>1:\n",
        "                for k in range(0,neighbours_no):\n",
        "                    S=S+(Neighbours_X[k]-X[i])\n",
        "                S=-S\n",
        "            else:\n",
        "                S=np.zeros(dim)\n",
        "  \n",
        "            if neighbours_no>1:\n",
        "                A=(sum(Neighbours_DeltaX))/neighbours_no\n",
        "            else:\n",
        "                A = DeltaX[i]\n",
        "            \n",
        "            if neighbours_no>1:\n",
        "                C_temp=(sum(Neighbours_X))/neighbours_no\n",
        "            else:\n",
        "                C_temp=X[i]\n",
        "        \n",
        "            C=C_temp-X[i]\n",
        "            \n",
        "            ###  distance from Food\n",
        "            Dist2Food=distance(X[i],Food_pos,dim)\n",
        "                               \n",
        "            if all(Dist2Food<=r):\n",
        "                F=Food_pos-X[i]\n",
        "            else:\n",
        "                F=np.zeros(dim)\n",
        "\n",
        "            ### Distance from enemy\n",
        "            Dist2Enemy=distance(X[i],Enemy_pos,dim)\n",
        "                               \n",
        "            if all(Dist2Enemy<=r):\n",
        "                Enemy=Enemy_pos-X[i]\n",
        "            else:\n",
        "                Enemy=np.zeros(dim)\n",
        "\n",
        "            ### updation of dragonfly position\n",
        "            for tt in range(0,dim):\n",
        "                if X[i][tt]>ub:\n",
        "                    X[i][tt]=ub\n",
        "                    DeltaX[i][tt]=random.uniform(0,1)*(50-lb)\n",
        "                    \n",
        "                if X[i][tt]<lb:\n",
        "                    X[i][tt]=lb\n",
        "                    DeltaX[i][tt]=random.uniform(0,1)*(50-lb)\n",
        "            \n",
        "            temp=np.zeros(dim)\n",
        "            Delta_temp=np.zeros(dim)\n",
        "            \n",
        "            ### formula in the paper\n",
        "            if any(Dist2Food>r):\n",
        "                if neighbours_no>1:\n",
        "                    for j in range(0,dim):\n",
        "                        Delta_temp[j] = int(w*DeltaX[i][j] + random.random()*A[j] + random.random()*C[j] + random.random()*S[j])\n",
        "                        if Delta_temp[j]>Delta_max:\n",
        "                            Delta_temp[j]=Delta_max\n",
        "                        if Delta_temp[j]<-Delta_max:\n",
        "                            Delta_temp[j]=-Delta_max\n",
        "                        temp[j]=X[i][j]+(Delta_temp[j])\n",
        "                else:\n",
        "                    temp=(X[i] + (Levy(dim))*X[i]).astype(int)\n",
        "                    Delta_temp=np.zeros(dim)\n",
        "            \n",
        "            else:\n",
        "                for j in range(0,dim):\n",
        "                    Delta_temp[j] = int((a*A[j] + c*C[j] + s*S[j] + f*F[j] + e*Enemy[j]) + w*DeltaX[i][j]) \n",
        "                    if Delta_temp[j]>Delta_max:\n",
        "                        Delta_temp[j]=Delta_max\n",
        "                    if Delta_temp[j]<-Delta_max:\n",
        "                        Delta_temp[j]=-Delta_max\n",
        "                    temp[j]=X[i][j]+Delta_temp[j]\n",
        "\n",
        "            ### checking the range  \n",
        "            for j in range(0,dim):\n",
        "                if temp[j]<lb: # Bringinging back to search space\n",
        "                        temp[j]=lb\n",
        "                    \n",
        "                if temp[j]>ub: # Bringinging back to search space\n",
        "                    temp[j]=ub\n",
        "            temp=np.sort(temp)\n",
        "            Delta_temp=np.sort(Delta_temp)\n",
        "            temp = temp.astype(int)\n",
        "            if(fitness(temp,greyscale_img, nthrs)) > fitness_of_X[i]:\n",
        "                X[i]=temp\n",
        "                DeltaX[i]=Delta_temp\n",
        "                             \n",
        "        Best_score=Food_fitness\n",
        "        Best_pos=Food_pos\n",
        "        print(Best_pos)\n",
        "        print(\"Iteration = \" + str(itr))\n",
        "    \n",
        "    best_sol=Best_pos\n",
        "    print('*****\\n')\n",
        "    print(best_sol)\n",
        "\n",
        "    end = time.time()\n",
        "    print(end-start)"
      ],
      "metadata": {
        "colab": {
          "base_uri": "https://localhost:8080/"
        },
        "id": "_VBtrXs7Z2nR",
        "outputId": "fdd4be96-81b6-4eac-c44a-77e52c2f49a7"
      },
      "execution_count": 73,
      "outputs": [
        {
          "output_type": "stream",
          "name": "stdout",
          "text": [
            "Image No. 1\n"
          ]
        },
        {
          "output_type": "stream",
          "name": "stderr",
          "text": [
            "/usr/local/lib/python3.7/dist-packages/ipykernel_launcher.py:29: RuntimeWarning: invalid value encountered in double_scalars\n",
            "/usr/local/lib/python3.7/dist-packages/ipykernel_launcher.py:35: RuntimeWarning: invalid value encountered in double_scalars\n"
          ]
        },
        {
          "output_type": "stream",
          "name": "stdout",
          "text": [
            "[ 23 120 201 212 247]\n",
            "Iteration = 1\n",
            "[ 23 120 201 212 247]\n",
            "Iteration = 2\n",
            "[ 51  82 122 153 208]\n",
            "Iteration = 3\n",
            "[ 51  82 122 153 208]\n",
            "Iteration = 4\n",
            "[ 51  82 122 153 208]\n",
            "Iteration = 5\n",
            "[ 22 121 193 212 244]\n",
            "Iteration = 6\n",
            "[ 22 121 193 212 244]\n",
            "Iteration = 7\n",
            "[ 22 121 193 212 244]\n",
            "Iteration = 8\n",
            "[ 22 121 193 212 244]\n",
            "Iteration = 9\n",
            "[ 22 121 193 212 244]\n",
            "Iteration = 10\n",
            "[ 22 121 193 212 244]\n",
            "Iteration = 11\n",
            "[ 10  87 134 168 203]\n",
            "Iteration = 12\n",
            "[ 10  87 134 168 203]\n",
            "Iteration = 13\n",
            "[ 10  87 134 168 203]\n",
            "Iteration = 14\n",
            "[ 10  87 134 168 203]\n",
            "Iteration = 15\n",
            "[ 22 122 181 194 243]\n",
            "Iteration = 16\n",
            "[ 22 122 181 194 243]\n",
            "Iteration = 17\n",
            "[ 22 122 181 194 243]\n",
            "Iteration = 18\n",
            "[ 22 122 181 194 243]\n",
            "Iteration = 19\n",
            "[ 22 122 181 194 243]\n",
            "Iteration = 20\n",
            "[ 22 122 181 194 243]\n",
            "Iteration = 21\n",
            "[ 78 128 169 203 238]\n",
            "Iteration = 22\n",
            "[ 78 128 169 203 238]\n",
            "Iteration = 23\n",
            "[ 78 128 169 203 238]\n",
            "Iteration = 24\n",
            "[ 78 128 169 203 238]\n",
            "Iteration = 25\n",
            "[ 78 128 169 203 238]\n",
            "Iteration = 26\n",
            "[ 78 128 169 203 238]\n",
            "Iteration = 27\n",
            "[  5 118 163 199 236]\n",
            "Iteration = 28\n",
            "[  5 118 163 199 236]\n",
            "Iteration = 29\n",
            "[  5 118 163 199 236]\n",
            "Iteration = 30\n",
            "[  5 118 163 199 236]\n",
            "Iteration = 31\n",
            "[  5 118 163 199 236]\n",
            "Iteration = 32\n",
            "[  5 118 163 199 236]\n",
            "Iteration = 33\n",
            "[  5 118 163 199 236]\n",
            "Iteration = 34\n",
            "[  5 118 163 199 236]\n",
            "Iteration = 35\n",
            "[  5 118 163 199 236]\n",
            "Iteration = 36\n",
            "[  5 118 163 199 236]\n",
            "Iteration = 37\n",
            "[  5 118 163 199 236]\n",
            "Iteration = 38\n",
            "[  5 118 163 199 236]\n",
            "Iteration = 39\n",
            "[  5 118 163 199 236]\n",
            "Iteration = 40\n",
            "[  5 118 163 199 236]\n",
            "Iteration = 41\n",
            "[  5 118 163 199 236]\n",
            "Iteration = 42\n",
            "[  5 118 163 199 236]\n",
            "Iteration = 43\n",
            "[  5 118 163 199 236]\n",
            "Iteration = 44\n",
            "[  5 118 163 199 236]\n",
            "Iteration = 45\n",
            "[  5 118 163 199 236]\n",
            "Iteration = 46\n",
            "[  5 118 163 199 236]\n",
            "Iteration = 47\n",
            "[  5 118 163 199 236]\n",
            "Iteration = 48\n",
            "[  5 118 163 199 236]\n",
            "Iteration = 49\n",
            "[  5 118 163 199 236]\n",
            "Iteration = 50\n",
            "*****\n",
            "\n",
            "[  5 118 163 199 236]\n",
            "37.93715286254883\n"
          ]
        }
      ]
    },
    {
      "cell_type": "code",
      "source": [
        "ret, thresh1 = cv2.threshold(greyscale_img, 151, 255, cv2.THRESH_BINARY)        \n",
        "cv2_imshow(thresh1)"
      ],
      "metadata": {
        "colab": {
          "base_uri": "https://localhost:8080/",
          "height": 660
        },
        "id": "Svk2PjkH_leP",
        "outputId": "33be4755-fff7-4bc5-ab28-91147687377e"
      },
      "execution_count": 8,
      "outputs": [
        {
          "output_type": "display_data",
          "data": {
            "text/plain": [
              "<PIL.Image.Image image mode=L size=640x643 at 0x7F58B90E6190>"
            ],
            "image/png": "[encoded data removed]"
          },
          "metadata": {}
        }
      ]
    },
    {
      "cell_type": "code",
      "source": [
        "vif=vifp(thresh1, greyscale_img)\n",
        "psnr=PSNR(thresh1,greyscale_img)\n",
        "ssim_val=ssim(thresh1, greyscale_img)\n",
        "    \n",
        "'''print(\"psnr = \"+str(round(psnr,4)))\n",
        "print(\"vif = \"+str(round(vif,4)))\n",
        "print(\"ssim = \"+str(round(ssim_val,4)))'''\n",
        "\n",
        "print(str(round(psnr,4))+'  '+str(round(vif,4))+'  '+str(round(ssim_val,4)))"
      ],
      "metadata": {
        "id": "W4LtSXHNEi7_",
        "colab": {
          "base_uri": "https://localhost:8080/"
        },
        "outputId": "75e07225-a5da-4c6d-ee8e-7164fac4ba04"
      },
      "execution_count": 9,
      "outputs": [
        {
          "output_type": "stream",
          "name": "stdout",
          "text": [
            "28.0362  0.1136  0.2576\n"
          ]
        }
      ]
    },
    {
      "cell_type": "code",
      "source": [
        "thresholds = [68, 112 ,130, 142, 155, 187]\n",
        "sr='/content/drive/MyDrive/Dataset/lena_colour01.png'  \n",
        "greyscale_img = cv2.imread(sr,0)\n",
        "for i in thresholds:\n",
        "  ret, thresh1 = cv2.threshold(greyscale_img, i, 255, cv2.THRESH_BINARY)\n",
        "  cv2_imshow(thresh1)\n",
        "  '''if(i!=0):\n",
        "    ret, thresh1 = cv2.threshold(greyscale_img, i, 255, cv2.THRESH_BINARY)  \n",
        "    vif=vifp(thresh1, greyscale_img)\n",
        "    psnr=PSNR(thresh1,greyscale_img)\n",
        "    ssim_val=ssim(thresh1, greyscale_img)\n",
        "    print(str(round(psnr,4))+'  '+str(round(vif,4))+'  '+str(round(ssim_val,4)))\n",
        "  else:\n",
        "    print('****')'''"
      ],
      "metadata": {
        "colab": {
          "base_uri": "https://localhost:8080/",
          "height": 1000
        },
        "id": "-vEXy81b0PEJ",
        "outputId": "6f8baf49-8bd5-4891-d68e-5f7050c04c73"
      },
      "execution_count": 12,
      "outputs": [
        {
          "output_type": "display_data",
          "data": {
            "text/plain": [
              "<PIL.Image.Image image mode=L size=640x643 at 0x7F58B90DC850>"
            ],
            "image/png": "[encoded data removed]"
          },
          "metadata": {}
        },
        {
          "output_type": "display_data",
          "data": {
            "text/plain": [
              "<PIL.Image.Image image mode=L size=640x643 at 0x7F58B90DCA50>"
            ],
            "image/png": "[encoded data removed]"
          },
          "metadata": {}
        },
        {
          "output_type": "display_data",
          "data": {
            "text/plain": [
              "<PIL.Image.Image image mode=L size=640x643 at 0x7F58B90DCE50>"
            ],
            "image/png": "[encoded data removed]"
          },
          "metadata": {}
        },
        {
          "output_type": "display_data",
          "data": {
            "text/plain": [
              "<PIL.Image.Image image mode=L size=640x643 at 0x7F58B90DCE50>"
            ],
            "image/png": "[encoded data removed]"
          },
          "metadata": {}
        },
        {
          "output_type": "display_data",
          "data": {
            "text/plain": [
              "<PIL.Image.Image image mode=L size=640x643 at 0x7F58B90DCE50>"
            ],
            "image/png": "[encoded data removed]"
          },
          "metadata": {}
        },
        {
          "output_type": "display_data",
          "data": {
            "text/plain": [
              "<PIL.Image.Image image mode=L size=640x643 at 0x7F58B90DCF90>"
            ],
            "image/png": "[encoded data removed]"
          },
          "metadata": {}
        }
      ]
    },
    {
      "cell_type": "code",
      "source": [
        ""
      ],
      "metadata": {
        "id": "4ouRJvs9PVNI"
      },
      "execution_count": null,
      "outputs": []
    }
  ]
}